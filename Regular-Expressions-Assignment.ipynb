{
 "cells": [
  {
   "cell_type": "code",
   "execution_count": 36,
   "id": "fe55883a-6887-43dd-9498-5333a51799e2",
   "metadata": {},
   "outputs": [
    {
     "name": "stdout",
     "output_type": "stream",
     "text": [
      "Python:Exercises::PHP:exercises:\n"
     ]
    }
   ],
   "source": [
    "#Solution to Question 1#\n",
    "def replace_characters_with_colon(text):\n",
    "    replaced_text = text.replace(' ', ':').replace(',', ':').replace('.', ':')\n",
    "    return replaced_text\n",
    "\n",
    "sample_text = 'Python Exercises, PHP exercises.'\n",
    "result = replace_characters_with_colon(sample_text)\n",
    "print(result)\n"
   ]
  },
  {
   "cell_type": "code",
   "execution_count": 28,
   "id": "8b5b55f4-2969-4359-8924-b75bc02318c9",
   "metadata": {},
   "outputs": [
    {
     "name": "stdout",
     "output_type": "stream",
     "text": [
      "am\n",
      "an\n",
      "excellent\n",
      "and\n",
      "eager\n",
      "about\n"
     ]
    }
   ],
   "source": [
    "#Solution to Question 2#\n",
    "import re\n",
    "\n",
    "def find_words_starting_with_a_or_e(text):\n",
    "    words = re.findall(r'\\b[aAeE]\\w+', text)\n",
    "    return words\n",
    "\n",
    "text = \"I am an excellent guy when it comes to programming, and Im eager to learn more about it.\"\n",
    "result = find_words_starting_with_a_or_e(text)\n",
    "\n",
    "for word in result:\n",
    "    print(word)\n"
   ]
  },
  {
   "cell_type": "code",
   "execution_count": 29,
   "id": "f0732ec6-7416-4db5-b6c4-1a7c3051a4ca",
   "metadata": {},
   "outputs": [
    {
     "name": "stdout",
     "output_type": "stream",
     "text": [
      "quick\n",
      "brown\n",
      "jumps\n",
      "over\n",
      "lazy\n",
      "Python\n",
      "versatile\n",
      "programming\n",
      "language\n"
     ]
    }
   ],
   "source": [
    "#Solution to Question 3#\n",
    "import re\n",
    "\n",
    "def find_long_words(text):\n",
    "    pattern = re.compile(r'\\b\\w{4,}\\b')\n",
    "    words = pattern.findall(text)\n",
    "    return words\n",
    "\n",
    "sample_text = \"The quick brown fox jumps over the lazy dog. Python is a versatile programming language.\"\n",
    "result = find_long_words(sample_text)\n",
    "\n",
    "for word in result:\n",
    "    print(word)\n"
   ]
  },
  {
   "cell_type": "code",
   "execution_count": 4,
   "id": "979a1700-72be-41a3-97d9-d60e5cce37e9",
   "metadata": {},
   "outputs": [
    {
     "name": "stdout",
     "output_type": "stream",
     "text": [
      "love\n",
      "quick\n",
      "red\n",
      "fox\n",
      "jumps\n",
      "over\n",
      "lazy\n",
      "dog\n"
     ]
    }
   ],
   "source": [
    "#Solution to Question 4#\n",
    "import re\n",
    "\n",
    "def find_specific_length_words(text):\n",
    "    pattern = re.compile(r'\\b\\w{3,5}\\b')\n",
    "    words = pattern.findall(text)\n",
    "    return words\n",
    "\n",
    "sample_text = \"I love Python programming. A quick red fox jumps over a lazy dog.\"\n",
    "result = find_specific_length_words(sample_text)\n",
    "\n",
    "for word in result:\n",
    "    print(word)\n"
   ]
  },
  {
   "cell_type": "code",
   "execution_count": 2,
   "id": "f3457238-de81-4ed1-866f-2d1d5e62ab1e",
   "metadata": {},
   "outputs": [
    {
     "name": "stdout",
     "output_type": "stream",
     "text": [
      "example\n",
      "hr@fliprobo\n",
      "github\n",
      "Hello\n",
      "Data\n"
     ]
    }
   ],
   "source": [
    "#Solution to Question 5#\n",
    "import re\n",
    "\n",
    "def remove_parentheses(strings):\n",
    "    pattern = re.compile(r'\\s?\\([^)]*\\)')\n",
    "    cleaned_strings = [pattern.sub('', s) for s in strings]\n",
    "    return cleaned_strings\n",
    "\n",
    "sample_text = [\n",
    "    \"example (.com)\",\n",
    "    \"hr@fliprobo (.com)\",\n",
    "    \"github (.com)\",\n",
    "    \"Hello (Data Science World)\",\n",
    "    \"Data (Scientist)\"\n",
    "]\n",
    "\n",
    "result = remove_parentheses(sample_text)\n",
    "\n",
    "for string in result:\n",
    "    print(string)\n"
   ]
  },
  {
   "cell_type": "code",
   "execution_count": null,
   "id": "0caa98d7",
   "metadata": {},
   "outputs": [],
   "source": [
    "#Solution to Question 6#\n",
    "import re\n",
    "\n",
    "def remove_parenthesis(text):\n",
    "    pattern = r\"\\s?\\([^)]*\\)\"\n",
    "    remove_parenthesis_function = re.compile(pattern)\n",
    "    return remove_parenthesis_function.sub(\"\", text)\n",
    "\n",
    "input_file = \"sample_text.txt\"\n",
    "output_file = \"output_text.txt\"\n",
    "\n",
    "with open(input_file, \"r\") as f:\n",
    "    lines = f.readlines()\n",
    "\n",
    "modified_lines = [remove_parenthesis(line.strip()) for line in lines]\n",
    "\n",
    "with open(output_file, \"w\") as f:\n",
    "    for line in modified_lines:\n",
    "        f.write(line + \"\\n\")\n",
    "        print(line)\n",
    "\n",
    "print(\"Modified text has been saved to\", output_file)\n"
   ]
  },
  {
   "cell_type": "code",
   "execution_count": 30,
   "id": "3f3a4b4d-9262-452b-adb3-edb73513026e",
   "metadata": {},
   "outputs": [
    {
     "name": "stdout",
     "output_type": "stream",
     "text": [
      "['Importance', 'Of', 'Regular', 'Expressions', 'In', 'Python']\n"
     ]
    }
   ],
   "source": [
    "#Solution to Question 7#\n",
    "import re\n",
    "\n",
    "sample_text = \"ImportanceOfRegularExpressionsInPython\"\n",
    "words = re.findall('[A-Z][a-z]*', sample_text)\n",
    "\n",
    "print(words)\n"
   ]
  },
  {
   "cell_type": "code",
   "execution_count": 2,
   "id": "fc9668fc-3e24-45cc-8149-7b4b8fa8b5b3",
   "metadata": {},
   "outputs": [
    {
     "name": "stdout",
     "output_type": "stream",
     "text": [
      "RegularExpression1 IsAn2 ImportantTopic3 InPython\n"
     ]
    }
   ],
   "source": [
    "#Solution to Question 8#\n",
    "import re\n",
    "\n",
    "def insert_spaces(text):\n",
    "    modified_text = re.sub(r'(\\d)([A-Za-z])', r'\\1 \\2', text)\n",
    "    return modified_text\n",
    "\n",
    "sample_text = \"RegularExpression1IsAn2ImportantTopic3InPython\"\n",
    "result = insert_spaces(sample_text)\n",
    "\n",
    "print(result)\n"
   ]
  },
  {
   "cell_type": "code",
   "execution_count": 3,
   "id": "055f6cde-9bdc-4c02-8073-c6d3dc5041a3",
   "metadata": {},
   "outputs": [
    {
     "name": "stdout",
     "output_type": "stream",
     "text": [
      "Regular Expression 1 Is An 2 Important Topic 3 In Python\n"
     ]
    }
   ],
   "source": [
    "#Solution to Question 9#\n",
    "import re\n",
    "\n",
    "def insert_spaces(text):\n",
    "    modified_text = re.sub(r'([A-Z\\d])', r' \\1', text)\n",
    "    return modified_text.strip()\n",
    "\n",
    "sample_text = \"RegularExpression1IsAn2ImportantTopic3InPython\"\n",
    "result = insert_spaces(sample_text)\n",
    "\n",
    "print(result)\n"
   ]
  },
  {
   "cell_type": "code",
   "execution_count": null,
   "id": "938020a1",
   "metadata": {},
   "outputs": [],
   "source": [
    "#Solution to Question 10#\n",
    "import re\n",
    "\n",
    "def extract_emails(text):\n",
    "    email_pattern = r'\\b[A-Za-z0-9._%+-]+@[A-Za-z0-9.-]+\\.[A-Z|a-z]{2,}\\b'\n",
    "    emails = re.findall(email_pattern, text, re.IGNORECASE)\n",
    "    return emails\n",
    "\n",
    "input_file = \"sample_text.txt\"\n",
    "\n",
    "with open(input_file, \"r\") as f:\n",
    "    content = f.read()\n",
    "\n",
    "extracted_emails = extract_emails(content)\n",
    "\n",
    "for email in extracted_emails:\n",
    "    print(email)\n"
   ]
  },
  {
   "cell_type": "code",
   "execution_count": 35,
   "id": "e23298e1-4b7a-49b9-a90f-4974604fb093",
   "metadata": {},
   "outputs": [
    {
     "name": "stdout",
     "output_type": "stream",
     "text": [
      "Hello123 is a valid string.\n",
      "Python_3 is a valid string.\n",
      "Test String! is not a valid string.\n",
      "invalid_string_123 is a valid string.\n"
     ]
    }
   ],
   "source": [
    "#Solution to Question 11#\n",
    "import re\n",
    "\n",
    "def is_valid_string(input_string):\n",
    "    pattern = r'^[a-zA-Z0-9_]+$'\n",
    "    return re.match(pattern, input_string) is not None\n",
    "\n",
    "test_strings = [\"Hello123\", \"Python_3\", \"Test String!\", \"invalid_string_123\"]\n",
    "\n",
    "for string in test_strings:\n",
    "    if is_valid_string(string):\n",
    "        print(f\"{string} is a valid string.\")\n",
    "    else:\n",
    "        print(f\"{string} is not a valid string.\")\n"
   ]
  },
  {
   "cell_type": "code",
   "execution_count": 6,
   "id": "91871791-c005-44c7-867c-b052c2793087",
   "metadata": {},
   "outputs": [
    {
     "name": "stdout",
     "output_type": "stream",
     "text": [
      "50245 starts with 502.\n",
      "45678 does not start with 502.\n",
      "502765 starts with 502.\n",
      "96789 does not start with 502.\n",
      "5023456 starts with 502.\n"
     ]
    }
   ],
   "source": [
    "#Solution to Question 12#\n",
    "import re\n",
    "\n",
    "def starts_with_number(input_string, number):\n",
    "    pattern = r'^' + str(number)\n",
    "    return re.match(pattern, input_string) is not None\n",
    "\n",
    "test_strings = [\"50245\", \"45678\", \"502765\", \"96789\", \"5023456\"]\n",
    "\n",
    "specific_number = 502\n",
    "\n",
    "for string in test_strings:\n",
    "    if starts_with_number(string, specific_number):\n",
    "        print(f\"{string} starts with {specific_number}.\")\n",
    "    else:\n",
    "        print(f\"{string} does not start with {specific_number}.\")\n"
   ]
  },
  {
   "cell_type": "code",
   "execution_count": 31,
   "id": "fcda1c7b-b9dc-4520-a686-9d935f2fb650",
   "metadata": {},
   "outputs": [
    {
     "name": "stdout",
     "output_type": "stream",
     "text": [
      "192.168.1.1\n"
     ]
    }
   ],
   "source": [
    "#Solution to Question 13#\n",
    "def remove_leading_zeros(ip_address):\n",
    "    parts = ip_address.split(\".\")\n",
    "    modified_parts = [str(int(part)) for part in parts]\n",
    "    return \".\".join(modified_parts)\n",
    "\n",
    "ip_address = \"192.168.001.001\"\n",
    "result = remove_leading_zeros(ip_address)\n",
    "print(result)\n"
   ]
  },
  {
   "cell_type": "code",
   "execution_count": null,
   "id": "d07ed405",
   "metadata": {},
   "outputs": [],
   "source": [
    "#Solution to Question 14#\n",
    "import re\n",
    "\n",
    "def extract_date(text):\n",
    "    date_pattern = r'\\b[A-Z][a-z]+\\s\\d{1,2}(?:st|nd|rd|th)?\\s\\d{4}\\b'\n",
    "    date = re.search(date_pattern, text)\n",
    "    return date.group()\n",
    "\n",
    "input_file = \"sample_text.txt\" \n",
    "\n",
    "with open(input_file, \"r\") as f:\n",
    "    content = f.read()\n",
    "\n",
    "extracted_date = extract_date(content)\n",
    "\n",
    "print(extracted_date)\n"
   ]
  },
  {
   "cell_type": "code",
   "execution_count": 9,
   "id": "f97b3bfc-9712-4c02-8274-076be10b30ed",
   "metadata": {},
   "outputs": [
    {
     "name": "stdout",
     "output_type": "stream",
     "text": [
      "'fox' was found in the text.\n",
      "'dog' was found in the text.\n"
     ]
    }
   ],
   "source": [
    "#Solution to Question 15#\n",
    "def search_words(text, words):\n",
    "    found_words = [word for word in words if word in text]\n",
    "    return found_words\n",
    "\n",
    "sample_text = 'The quick brown fox jumps over the lazy dog.'\n",
    "searched_words = ['fox', 'dog', 'horse']\n",
    "\n",
    "found_words = search_words(sample_text, searched_words)\n",
    "\n",
    "for word in found_words:\n",
    "    print(f\"'{word}' was found in the text.\")\n"
   ]
  },
  {
   "cell_type": "code",
   "execution_count": 10,
   "id": "16e62965-3b5e-4d81-a689-d01a3bae6be6",
   "metadata": {},
   "outputs": [
    {
     "name": "stdout",
     "output_type": "stream",
     "text": [
      "'fox' was found at the following positions:\n",
      "Position: 16\n"
     ]
    }
   ],
   "source": [
    "#Solution to  Question 16#\n",
    "def search_word_with_locations(text, word):\n",
    "    locations = []\n",
    "    start = 0\n",
    "    while start < len(text):\n",
    "        pos = text.find(word, start)\n",
    "        if pos == -1:\n",
    "            break\n",
    "        locations.append(pos)\n",
    "        start = pos + 1\n",
    "    return locations\n",
    "\n",
    "sample_text = 'The quick brown fox jumps over the lazy dog.'\n",
    "searched_word = 'fox'\n",
    "\n",
    "locations = search_word_with_locations(sample_text, searched_word)\n",
    "\n",
    "if locations:\n",
    "    print(f\"'{searched_word}' was found at the following positions:\")\n",
    "    for pos in locations:\n",
    "        print(f\"Position: {pos}\")\n",
    "else:\n",
    "    print(f\"'{searched_word}' was not found in the text.\")\n"
   ]
  },
  {
   "cell_type": "code",
   "execution_count": 11,
   "id": "56dd5867-b3ba-4c8a-92c6-03eecf1d53eb",
   "metadata": {},
   "outputs": [
    {
     "name": "stdout",
     "output_type": "stream",
     "text": [
      "'exercises' is a substring and it was found at the following positions:\n",
      "Position: 7\n",
      "Position: 22\n",
      "Position: 36\n"
     ]
    }
   ],
   "source": [
    "#Solution to Question 17#\n",
    "def find_substrings(text, pattern):\n",
    "    positions = []\n",
    "    start = 0\n",
    "    while start < len(text):\n",
    "        pos = text.find(pattern, start)\n",
    "        if pos == -1:\n",
    "            break\n",
    "        positions.append(pos)\n",
    "        start = pos + len(pattern)\n",
    "    return positions\n",
    "\n",
    "sample_text = 'Python exercises, PHP exercises, C# exercises'\n",
    "pattern = 'exercises'\n",
    "\n",
    "positions = find_substrings(sample_text, pattern)\n",
    "\n",
    "if positions:\n",
    "    print(f\"'{pattern}' is a substring and it was found at the following positions:\")\n",
    "    for pos in positions:\n",
    "        print(f\"Position: {pos}\")\n",
    "else:\n",
    "    print(f\"'{pattern}' was not found in the text.\")\n"
   ]
  },
  {
   "cell_type": "code",
   "execution_count": 12,
   "id": "a8edb1f2-dd25-4808-af84-c9119a86aa78",
   "metadata": {},
   "outputs": [
    {
     "name": "stdout",
     "output_type": "stream",
     "text": [
      "'exercises' was found at the following positions:\n",
      "Occurrence 1: Position 7\n",
      "Occurrence 2: Position 22\n",
      "Occurrence 3: Position 36\n"
     ]
    }
   ],
   "source": [
    "#Solution to Question 18#\n",
    "def find_substrings_with_occurrences(text, pattern):\n",
    "    occurrences = []\n",
    "    positions = []\n",
    "    start = 0\n",
    "    while start < len(text):\n",
    "        pos = text.find(pattern, start)\n",
    "        if pos == -1:\n",
    "            break\n",
    "        occurrences.append(pattern)\n",
    "        positions.append(pos)\n",
    "        start = pos + len(pattern)\n",
    "    return occurrences, positions\n",
    "\n",
    "sample_text = 'Python exercises, PHP exercises, C# exercises'\n",
    "pattern = 'exercises'\n",
    "\n",
    "occurrences, positions = find_substrings_with_occurrences(sample_text, pattern)\n",
    "\n",
    "if occurrences:\n",
    "    print(f\"'{pattern}' was found at the following positions:\")\n",
    "    for i in range(len(occurrences)):\n",
    "        print(f\"Occurrence {i + 1}: Position {positions[i]}\")\n",
    "else:\n",
    "    print(f\"'{pattern}' was not found in the text.\")\n"
   ]
  },
  {
   "cell_type": "code",
   "execution_count": 13,
   "id": "f25ea3b5-194d-4402-a95e-4bfe56d32d22",
   "metadata": {},
   "outputs": [
    {
     "name": "stdout",
     "output_type": "stream",
     "text": [
      "Original date: 2023-08-25\n",
      "Converted date: 25-08-2023\n"
     ]
    }
   ],
   "source": [
    "#Solution to Question 19#\n",
    "def convert_date_format(date):\n",
    "    parts = date.split(\"-\")\n",
    "    if len(parts) == 3:\n",
    "        year, month, day = parts\n",
    "        return f\"{day}-{month}-{year}\"\n",
    "    else:\n",
    "        return \"Invalid date format\"\n",
    "\n",
    "input_date = \"2023-08-25\"\n",
    "output_date = convert_date_format(input_date)\n",
    "\n",
    "print(\"Original date:\", input_date)\n",
    "print(\"Converted date:\", output_date)\n"
   ]
  },
  {
   "cell_type": "code",
   "execution_count": 14,
   "id": "3a0c2bae-a209-4e2f-acab-4b9e24d21212",
   "metadata": {},
   "outputs": [
    {
     "name": "stdout",
     "output_type": "stream",
     "text": [
      "['01.12', '145.8', '3.01', '27.25', '0.25']\n"
     ]
    }
   ],
   "source": [
    "#Solution to Question 20#\n",
    "import re\n",
    "\n",
    "def find_decimal_numbers(text):\n",
    "    pattern = re.compile(r'\\b\\d+\\.\\d{1,2}\\b')\n",
    "    decimal_numbers = pattern.findall(text)\n",
    "    return decimal_numbers\n",
    "\n",
    "sample_text = \"01.12 0132.123 2.31875 145.8 3.01 27.25 0.25\"\n",
    "decimal_numbers = find_decimal_numbers(sample_text)\n",
    "\n",
    "print(decimal_numbers)\n"
   ]
  },
  {
   "cell_type": "code",
   "execution_count": 15,
   "id": "d8112360-edb4-4b82-905c-2b562fbf856c",
   "metadata": {},
   "outputs": [
    {
     "name": "stdout",
     "output_type": "stream",
     "text": [
      "Number: 20.50 at position 14\n",
      "Number: 15. at position 40\n"
     ]
    }
   ],
   "source": [
    "#Solution to Question 21#\n",
    "def extract_numbers_with_positions(text):\n",
    "    numbers = []\n",
    "    positions = []\n",
    "    start = 0\n",
    "    while start < len(text):\n",
    "        # Find the start of a number\n",
    "        while start < len(text) and not text[start].isdigit():\n",
    "            start += 1\n",
    "        \n",
    "        if start >= len(text):\n",
    "            break\n",
    "        \n",
    "        end = start\n",
    "        # Find the end of the number\n",
    "        while end < len(text) and (text[end].isdigit() or text[end] == '.'):\n",
    "            end += 1\n",
    "        \n",
    "        if end > start:\n",
    "            number = text[start:end]\n",
    "            numbers.append(number)\n",
    "            positions.append(start)\n",
    "            \n",
    "            start = end\n",
    "    \n",
    "    return numbers, positions\n",
    "\n",
    "sample_text = \"The price is $20.50 and the quantity is 15.\"\n",
    "numbers, positions = extract_numbers_with_positions(sample_text)\n",
    "\n",
    "for i in range(len(numbers)):\n",
    "    print(f\"Number: {numbers[i]} at position {positions[i]}\")\n"
   ]
  },
  {
   "cell_type": "code",
   "execution_count": 16,
   "id": "a381c05a-ba70-49b5-aa2a-f20899d1e6b8",
   "metadata": {},
   "outputs": [
    {
     "name": "stdout",
     "output_type": "stream",
     "text": [
      "Maximum numeric value: 950\n"
     ]
    }
   ],
   "source": [
    "#Solution to Question 22#\n",
    "import re\n",
    "\n",
    "def extract_max_number(text):\n",
    "    numbers = re.findall(r'\\d+', text)\n",
    "    if numbers:\n",
    "        max_number = max(map(int, numbers))\n",
    "        return str(max_number)\n",
    "    else:\n",
    "        return \"No numeric values found\"\n",
    "\n",
    "sample_text = 'My marks in each semester are: 947, 896, 926, 524, 734, 950, 642'\n",
    "max_number = extract_max_number(sample_text)\n",
    "\n",
    "print(\"Maximum numeric value:\", max_number)\n"
   ]
  },
  {
   "cell_type": "code",
   "execution_count": 17,
   "id": "bc1810dd-8454-4df4-95be-aee0359887da",
   "metadata": {},
   "outputs": [
    {
     "name": "stdout",
     "output_type": "stream",
     "text": [
      "Regular Expression Is An Important Topic In Python\n"
     ]
    }
   ],
   "source": [
    "#Solution to Question 23#\n",
    "def insert_spaces_between_capital_words(text):\n",
    "    words = []\n",
    "    start = 0\n",
    "    for end in range(1, len(text)):\n",
    "        if text[end].isupper():\n",
    "            words.append(text[start:end])\n",
    "            start = end\n",
    "    words.append(text[start:])\n",
    "    return ' '.join(words)\n",
    "\n",
    "sample_text = \"RegularExpressionIsAnImportantTopicInPython\"\n",
    "result = insert_spaces_between_capital_words(sample_text)\n",
    "\n",
    "print(result)\n"
   ]
  },
  {
   "cell_type": "code",
   "execution_count": 18,
   "id": "7c08d280-9e2c-4c83-961e-3f1fb8dbd89d",
   "metadata": {},
   "outputs": [
    {
     "name": "stdout",
     "output_type": "stream",
     "text": [
      "['Abc', 'Def', 'Gh', 'Ijk', 'Lmno']\n"
     ]
    }
   ],
   "source": [
    "#Solution to Question 24#\n",
    "import re\n",
    "\n",
    "pattern = r'[A-Z][a-z]+'\n",
    "\n",
    "text = \"Abc DefGh IjkLmnoP\"\n",
    "matches = re.findall(pattern, text)\n",
    "\n",
    "print(matches)\n"
   ]
  },
  {
   "cell_type": "code",
   "execution_count": 19,
   "id": "b178e17b-cb36-4621-904e-af18101d5f8c",
   "metadata": {},
   "outputs": [
    {
     "name": "stdout",
     "output_type": "stream",
     "text": [
      "Hello world\n"
     ]
    }
   ],
   "source": [
    "#Solution to Question 25#\n",
    "import re\n",
    "\n",
    "def remove_continuous_duplicates(sentence):\n",
    "    pattern = r'\\b(\\w+)\\s+\\1\\b'\n",
    "    modified_sentence = re.sub(pattern, r'\\1', sentence, flags=re.IGNORECASE)\n",
    "    return modified_sentence\n",
    "\n",
    "sample_text = \"Hello hello world world\"\n",
    "result = remove_continuous_duplicates(sample_text)\n",
    "\n",
    "print(result)\n"
   ]
  },
  {
   "cell_type": "code",
   "execution_count": 20,
   "id": "24462fd8-cc0e-4964-a3a6-063154a67d5b",
   "metadata": {},
   "outputs": [
    {
     "name": "stdout",
     "output_type": "stream",
     "text": [
      "'Hello123' ends with an alphanumeric character.\n",
      "'Python_3' ends with an alphanumeric character.\n",
      "'Test!' does not end with an alphanumeric character.\n",
      "'invalid123_' ends with an alphanumeric character.\n"
     ]
    }
   ],
   "source": [
    "#Solution to Question 26#\n",
    "import re\n",
    "\n",
    "def ends_with_alphanumeric(input_string):\n",
    "    pattern = r'\\w$'\n",
    "    return re.search(pattern, input_string) is not None\n",
    "\n",
    "test_strings = [\"Hello123\", \"Python_3\", \"Test!\", \"invalid123_\"]\n",
    "\n",
    "for string in test_strings:\n",
    "    if ends_with_alphanumeric(string):\n",
    "        print(f\"'{string}' ends with an alphanumeric character.\")\n",
    "    else:\n",
    "        print(f\"'{string}' does not end with an alphanumeric character.\")\n"
   ]
  },
  {
   "cell_type": "code",
   "execution_count": 21,
   "id": "389406b7-4a39-47ff-9dac-09edb47f8aca",
   "metadata": {},
   "outputs": [
    {
     "name": "stdout",
     "output_type": "stream",
     "text": [
      "['#Doltiwal', '#xyzabc', '#Demonetization']\n"
     ]
    }
   ],
   "source": [
    "#Solution to Question 27#\n",
    "import re\n",
    "\n",
    "def extract_hashtags(text):\n",
    "    pattern = r'#\\w+'\n",
    "    hashtags = re.findall(pattern, text)\n",
    "    return hashtags\n",
    "\n",
    "sample_text = \"\"\"RT @kapil_kausik: #Doltiwal I mean #xyzabc is \"hurt\" by #Demonetization as the same has rendered USELESS <ed><U+00A0><U+00BD><ed><U+00B1><U+0089> \"acquired funds\" No wo\"\"\"\n",
    "hashtags = extract_hashtags(sample_text)\n",
    "\n",
    "print(hashtags)\n"
   ]
  },
  {
   "cell_type": "code",
   "execution_count": 34,
   "id": "54ac911b-b24c-4fa7-a9fe-3df48825bc0d",
   "metadata": {},
   "outputs": [
    {
     "name": "stdout",
     "output_type": "stream",
     "text": [
      "@Jags123456 Bharat band on 28??<ed><ed>Those who  are protesting #demonetization  are all different party leaders\n"
     ]
    }
   ],
   "source": [
    "#Solution to Question 28#\n",
    "import re\n",
    "\n",
    "def remove_special_symbols(text):\n",
    "    pattern = r'<U\\+[A-F0-9]+\\>'\n",
    "    modified_text = re.sub(pattern, '', text)\n",
    "    return modified_text\n",
    "\n",
    "sample_text = \"@Jags123456 Bharat band on 28??<ed><U+00A0><U+00BD><ed><U+00B8><U+0082>Those who  are protesting #demonetization  are all different party leaders\"\n",
    "output_text = remove_special_symbols(sample_text)\n",
    "\n",
    "print(output_text)\n",
    "\n"
   ]
  },
  {
   "cell_type": "code",
   "execution_count": null,
   "id": "a0d4530a",
   "metadata": {},
   "outputs": [],
   "source": [
    "#Solution to Question 29#\n",
    "import re\n",
    "\n",
    "def extract_dates_from_file(file_path):\n",
    "    with open(file_path, \"r\") as f:\n",
    "        content = f.read()\n",
    "    \n",
    "    date_pattern = r'\\b\\d{2}-\\d{2}-\\d{4}\\b'\n",
    "    dates = re.findall(date_pattern, content)\n",
    "    return dates\n",
    "\n",
    "input_file = \"sample_text.txt\"  \n",
    "dates = extract_dates_from_file(input_file)\n",
    "\n",
    "print(\"Extracted dates:\", dates)\n"
   ]
  },
  {
   "cell_type": "code",
   "execution_count": 33,
   "id": "1a951e7b-6e46-4f08-8ee8-836610c17f4e",
   "metadata": {},
   "outputs": [
    {
     "name": "stdout",
     "output_type": "stream",
     "text": [
      " following example creates  ArrayList  a capacity   elements. 4 elements   added   ArrayList   ArrayList  trimmed accordingly.\n"
     ]
    }
   ],
   "source": [
    "#Solution to Question 30#\n",
    "import re\n",
    "\n",
    "def remove_words_between_lengths(text, min_length, max_length):\n",
    "    pattern = re.compile(r'\\b\\w{%d,%d}\\b' % (min_length, max_length))\n",
    "    return pattern.sub('', text)\n",
    "\n",
    "sample_text = \"The following example creates an ArrayList with a capacity of 50 elements. 4 elements are then added to the ArrayList and the ArrayList is trimmed accordingly.\"\n",
    "output_text = remove_words_between_lengths(sample_text, 2, 4)\n",
    "\n",
    "print(output_text)\n"
   ]
  },
  {
   "cell_type": "code",
   "execution_count": null,
   "id": "57a29e95-cf7f-49b8-938b-033e8b875eb3",
   "metadata": {},
   "outputs": [],
   "source": []
  }
 ],
 "metadata": {
  "kernelspec": {
   "display_name": "Python 3 (ipykernel)",
   "language": "python",
   "name": "python3"
  },
  "language_info": {
   "codemirror_mode": {
    "name": "ipython",
    "version": 3
   },
   "file_extension": ".py",
   "mimetype": "text/x-python",
   "name": "python",
   "nbconvert_exporter": "python",
   "pygments_lexer": "ipython3",
   "version": "3.10.9"
  }
 },
 "nbformat": 4,
 "nbformat_minor": 5
}
